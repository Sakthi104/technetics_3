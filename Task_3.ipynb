{
 "cells": [
  {
   "cell_type": "code",
   "execution_count": 1,
   "id": "a7bab306-16eb-48ab-8c5a-1b2d3169cef6",
   "metadata": {},
   "outputs": [],
   "source": [
    "#importing libraries\n",
    "import numpy as np\n",
    "import pandas as pd\n",
    "import seaborn as sns\n",
    "import matplotlib.pyplot as plt\n",
    "import datetime as dt"
   ]
  },
  {
   "cell_type": "code",
   "execution_count": 2,
   "id": "b5e2992a-a914-4023-99c1-d124d52a99c0",
   "metadata": {},
   "outputs": [],
   "source": [
    "data=pd.read_csv('EmployeePerformanceAnalysis.csv')"
   ]
  },
  {
   "cell_type": "code",
   "execution_count": 3,
   "id": "1fdc632c-ad52-406d-8bae-04b7848e9bd9",
   "metadata": {},
   "outputs": [
    {
     "name": "stdout",
     "output_type": "stream",
     "text": [
      "<class 'pandas.core.frame.DataFrame'>\n",
      "RangeIndex: 1470 entries, 0 to 1469\n",
      "Data columns (total 35 columns):\n",
      " #   Column                    Non-Null Count  Dtype \n",
      "---  ------                    --------------  ----- \n",
      " 0   Age                       1470 non-null   int64 \n",
      " 1   Attrition                 1470 non-null   object\n",
      " 2   BusinessTravel            1470 non-null   object\n",
      " 3   DailyRate                 1470 non-null   int64 \n",
      " 4   Department                1470 non-null   object\n",
      " 5   DistanceFromHome          1470 non-null   int64 \n",
      " 6   Education                 1470 non-null   int64 \n",
      " 7   EducationField            1470 non-null   object\n",
      " 8   EmployeeCount             1470 non-null   int64 \n",
      " 9   EmployeeNumber            1470 non-null   int64 \n",
      " 10  EnvironmentSatisfaction   1470 non-null   int64 \n",
      " 11  Gender                    1470 non-null   object\n",
      " 12  HourlyRate                1470 non-null   int64 \n",
      " 13  JobInvolvement            1470 non-null   int64 \n",
      " 14  JobLevel                  1470 non-null   int64 \n",
      " 15  JobRole                   1470 non-null   object\n",
      " 16  JobSatisfaction           1470 non-null   int64 \n",
      " 17  MaritalStatus             1470 non-null   object\n",
      " 18  MonthlyIncome             1470 non-null   int64 \n",
      " 19  MonthlyRate               1470 non-null   int64 \n",
      " 20  NumCompaniesWorked        1470 non-null   int64 \n",
      " 21  Over18                    1470 non-null   object\n",
      " 22  OverTime                  1470 non-null   object\n",
      " 23  PercentSalaryHike         1470 non-null   int64 \n",
      " 24  PerformanceRating         1470 non-null   int64 \n",
      " 25  RelationshipSatisfaction  1470 non-null   int64 \n",
      " 26  StandardHours             1470 non-null   int64 \n",
      " 27  StockOptionLevel          1470 non-null   int64 \n",
      " 28  TotalWorkingYears         1470 non-null   int64 \n",
      " 29  TrainingTimesLastYear     1470 non-null   int64 \n",
      " 30  WorkLifeBalance           1470 non-null   int64 \n",
      " 31  YearsAtCompany            1470 non-null   int64 \n",
      " 32  YearsInCurrentRole        1470 non-null   int64 \n",
      " 33  YearsSinceLastPromotion   1470 non-null   int64 \n",
      " 34  YearsWithCurrManager      1470 non-null   int64 \n",
      "dtypes: int64(26), object(9)\n",
      "memory usage: 402.1+ KB\n"
     ]
    }
   ],
   "source": [
    "data.info()"
   ]
  },
  {
   "cell_type": "code",
   "execution_count": 9,
   "id": "139893bb-b22e-4a2f-87e5-6a09ad6866d6",
   "metadata": {},
   "outputs": [
    {
     "data": {
      "text/html": [
       "<div>\n",
       "<style scoped>\n",
       "    .dataframe tbody tr th:only-of-type {\n",
       "        vertical-align: middle;\n",
       "    }\n",
       "\n",
       "    .dataframe tbody tr th {\n",
       "        vertical-align: top;\n",
       "    }\n",
       "\n",
       "    .dataframe thead th {\n",
       "        text-align: right;\n",
       "    }\n",
       "</style>\n",
       "<table border=\"1\" class=\"dataframe\">\n",
       "  <thead>\n",
       "    <tr style=\"text-align: right;\">\n",
       "      <th></th>\n",
       "      <th>EmployeeNumber</th>\n",
       "      <th>Attrition</th>\n",
       "      <th>PerformanceRating</th>\n",
       "      <th>MonthlyRate</th>\n",
       "      <th>JobInvolvement</th>\n",
       "      <th>RelationshipSatisfaction</th>\n",
       "      <th>JobSatisfaction</th>\n",
       "    </tr>\n",
       "  </thead>\n",
       "  <tbody>\n",
       "    <tr>\n",
       "      <th>0</th>\n",
       "      <td>1</td>\n",
       "      <td>Yes</td>\n",
       "      <td>3</td>\n",
       "      <td>19479</td>\n",
       "      <td>3</td>\n",
       "      <td>1</td>\n",
       "      <td>4</td>\n",
       "    </tr>\n",
       "    <tr>\n",
       "      <th>1</th>\n",
       "      <td>2</td>\n",
       "      <td>No</td>\n",
       "      <td>4</td>\n",
       "      <td>24907</td>\n",
       "      <td>2</td>\n",
       "      <td>4</td>\n",
       "      <td>2</td>\n",
       "    </tr>\n",
       "    <tr>\n",
       "      <th>2</th>\n",
       "      <td>4</td>\n",
       "      <td>Yes</td>\n",
       "      <td>3</td>\n",
       "      <td>2396</td>\n",
       "      <td>2</td>\n",
       "      <td>2</td>\n",
       "      <td>3</td>\n",
       "    </tr>\n",
       "    <tr>\n",
       "      <th>3</th>\n",
       "      <td>5</td>\n",
       "      <td>No</td>\n",
       "      <td>3</td>\n",
       "      <td>23159</td>\n",
       "      <td>3</td>\n",
       "      <td>3</td>\n",
       "      <td>3</td>\n",
       "    </tr>\n",
       "    <tr>\n",
       "      <th>4</th>\n",
       "      <td>7</td>\n",
       "      <td>No</td>\n",
       "      <td>3</td>\n",
       "      <td>16632</td>\n",
       "      <td>3</td>\n",
       "      <td>4</td>\n",
       "      <td>2</td>\n",
       "    </tr>\n",
       "    <tr>\n",
       "      <th>...</th>\n",
       "      <td>...</td>\n",
       "      <td>...</td>\n",
       "      <td>...</td>\n",
       "      <td>...</td>\n",
       "      <td>...</td>\n",
       "      <td>...</td>\n",
       "      <td>...</td>\n",
       "    </tr>\n",
       "    <tr>\n",
       "      <th>1465</th>\n",
       "      <td>2061</td>\n",
       "      <td>No</td>\n",
       "      <td>3</td>\n",
       "      <td>12290</td>\n",
       "      <td>4</td>\n",
       "      <td>3</td>\n",
       "      <td>4</td>\n",
       "    </tr>\n",
       "    <tr>\n",
       "      <th>1466</th>\n",
       "      <td>2062</td>\n",
       "      <td>No</td>\n",
       "      <td>3</td>\n",
       "      <td>21457</td>\n",
       "      <td>2</td>\n",
       "      <td>1</td>\n",
       "      <td>1</td>\n",
       "    </tr>\n",
       "    <tr>\n",
       "      <th>1467</th>\n",
       "      <td>2064</td>\n",
       "      <td>No</td>\n",
       "      <td>4</td>\n",
       "      <td>5174</td>\n",
       "      <td>4</td>\n",
       "      <td>2</td>\n",
       "      <td>2</td>\n",
       "    </tr>\n",
       "    <tr>\n",
       "      <th>1468</th>\n",
       "      <td>2065</td>\n",
       "      <td>No</td>\n",
       "      <td>3</td>\n",
       "      <td>13243</td>\n",
       "      <td>2</td>\n",
       "      <td>4</td>\n",
       "      <td>2</td>\n",
       "    </tr>\n",
       "    <tr>\n",
       "      <th>1469</th>\n",
       "      <td>2068</td>\n",
       "      <td>No</td>\n",
       "      <td>3</td>\n",
       "      <td>10228</td>\n",
       "      <td>4</td>\n",
       "      <td>1</td>\n",
       "      <td>3</td>\n",
       "    </tr>\n",
       "  </tbody>\n",
       "</table>\n",
       "<p>1470 rows × 7 columns</p>\n",
       "</div>"
      ],
      "text/plain": [
       "      EmployeeNumber Attrition  PerformanceRating  MonthlyRate  \\\n",
       "0                  1       Yes                  3        19479   \n",
       "1                  2        No                  4        24907   \n",
       "2                  4       Yes                  3         2396   \n",
       "3                  5        No                  3        23159   \n",
       "4                  7        No                  3        16632   \n",
       "...              ...       ...                ...          ...   \n",
       "1465            2061        No                  3        12290   \n",
       "1466            2062        No                  3        21457   \n",
       "1467            2064        No                  4         5174   \n",
       "1468            2065        No                  3        13243   \n",
       "1469            2068        No                  3        10228   \n",
       "\n",
       "      JobInvolvement  RelationshipSatisfaction  JobSatisfaction  \n",
       "0                  3                         1                4  \n",
       "1                  2                         4                2  \n",
       "2                  2                         2                3  \n",
       "3                  3                         3                3  \n",
       "4                  3                         4                2  \n",
       "...              ...                       ...              ...  \n",
       "1465               4                         3                4  \n",
       "1466               2                         1                1  \n",
       "1467               4                         2                2  \n",
       "1468               2                         4                2  \n",
       "1469               4                         1                3  \n",
       "\n",
       "[1470 rows x 7 columns]"
      ]
     },
     "execution_count": 9,
     "metadata": {},
     "output_type": "execute_result"
    }
   ],
   "source": [
    "#analyzing employee performance metrics, including productivity, sales performance, and customer \n",
    "#satisfaction ratings\n",
    "f_data=data[['EmployeeNumber','Attrition','PerformanceRating','MonthlyRate','JobInvolvement','RelationshipSatisfaction','JobSatisfaction']]\n",
    "f_data"
   ]
  },
  {
   "cell_type": "code",
   "execution_count": 25,
   "id": "89110a07-2a66-4665-9b1a-3a9a0a5f79ed",
   "metadata": {},
   "outputs": [],
   "source": [
    "f_data.to_csv('emp_data.csv')"
   ]
  },
  {
   "cell_type": "code",
   "execution_count": 12,
   "id": "2f1e4b6b-f41f-4fd8-9f07-b770393a8760",
   "metadata": {},
   "outputs": [
    {
     "name": "stdout",
     "output_type": "stream",
     "text": [
      "<class 'pandas.core.frame.DataFrame'>\n",
      "RangeIndex: 1470 entries, 0 to 1469\n",
      "Data columns (total 7 columns):\n",
      " #   Column                    Non-Null Count  Dtype \n",
      "---  ------                    --------------  ----- \n",
      " 0   EmployeeNumber            1470 non-null   int64 \n",
      " 1   Attrition                 1470 non-null   object\n",
      " 2   PerformanceRating         1470 non-null   int64 \n",
      " 3   MonthlyRate               1470 non-null   int64 \n",
      " 4   JobInvolvement            1470 non-null   int64 \n",
      " 5   RelationshipSatisfaction  1470 non-null   int64 \n",
      " 6   JobSatisfaction           1470 non-null   int64 \n",
      "dtypes: int64(6), object(1)\n",
      "memory usage: 80.5+ KB\n"
     ]
    }
   ],
   "source": [
    "f_data.info()"
   ]
  },
  {
   "cell_type": "code",
   "execution_count": 30,
   "id": "fb75c708-6c53-4f90-a0bc-d32ae3e4a7d9",
   "metadata": {},
   "outputs": [
    {
     "data": {
      "text/html": [
       "<div>\n",
       "<style scoped>\n",
       "    .dataframe tbody tr th:only-of-type {\n",
       "        vertical-align: middle;\n",
       "    }\n",
       "\n",
       "    .dataframe tbody tr th {\n",
       "        vertical-align: top;\n",
       "    }\n",
       "\n",
       "    .dataframe thead th {\n",
       "        text-align: right;\n",
       "    }\n",
       "</style>\n",
       "<table border=\"1\" class=\"dataframe\">\n",
       "  <thead>\n",
       "    <tr style=\"text-align: right;\">\n",
       "      <th></th>\n",
       "      <th>Attrition</th>\n",
       "    </tr>\n",
       "    <tr>\n",
       "      <th>Attrition</th>\n",
       "      <th></th>\n",
       "    </tr>\n",
       "  </thead>\n",
       "  <tbody>\n",
       "    <tr>\n",
       "      <th>No</th>\n",
       "      <td>1233</td>\n",
       "    </tr>\n",
       "    <tr>\n",
       "      <th>Yes</th>\n",
       "      <td>237</td>\n",
       "    </tr>\n",
       "  </tbody>\n",
       "</table>\n",
       "</div>"
      ],
      "text/plain": [
       "           Attrition\n",
       "Attrition           \n",
       "No              1233\n",
       "Yes              237"
      ]
     },
     "execution_count": 30,
     "metadata": {},
     "output_type": "execute_result"
    }
   ],
   "source": [
    "att_data=f_data.groupby('Attrition').agg({'Attrition':'count'})\n",
    "att_data"
   ]
  },
  {
   "cell_type": "code",
   "execution_count": 36,
   "id": "3c0a348c-c1e8-447a-8b40-da3b25bb0321",
   "metadata": {},
   "outputs": [
    {
     "data": {
      "text/html": [
       "<div>\n",
       "<style scoped>\n",
       "    .dataframe tbody tr th:only-of-type {\n",
       "        vertical-align: middle;\n",
       "    }\n",
       "\n",
       "    .dataframe tbody tr th {\n",
       "        vertical-align: top;\n",
       "    }\n",
       "\n",
       "    .dataframe thead th {\n",
       "        text-align: right;\n",
       "    }\n",
       "</style>\n",
       "<table border=\"1\" class=\"dataframe\">\n",
       "  <thead>\n",
       "    <tr style=\"text-align: right;\">\n",
       "      <th></th>\n",
       "      <th>EmployeeNumber</th>\n",
       "      <th>Attrition</th>\n",
       "      <th>PerformanceRating</th>\n",
       "      <th>MonthlyRate</th>\n",
       "      <th>JobInvolvement</th>\n",
       "      <th>RelationshipSatisfaction</th>\n",
       "      <th>JobSatisfaction</th>\n",
       "    </tr>\n",
       "  </thead>\n",
       "  <tbody>\n",
       "  </tbody>\n",
       "</table>\n",
       "</div>"
      ],
      "text/plain": [
       "Empty DataFrame\n",
       "Columns: [EmployeeNumber, Attrition, PerformanceRating, MonthlyRate, JobInvolvement, RelationshipSatisfaction, JobSatisfaction]\n",
       "Index: []"
      ]
     },
     "execution_count": 36,
     "metadata": {},
     "output_type": "execute_result"
    }
   ],
   "source": [
    "best_performers=f_data[f_data['PerformanceRating']==5]\n",
    "best_performers  #no employees with Preformancee Rating equal to 5"
   ]
  },
  {
   "cell_type": "code",
   "execution_count": 38,
   "id": "69997e6b-3581-4da6-a573-82664ed50227",
   "metadata": {},
   "outputs": [
    {
     "data": {
      "text/plain": [
       "EmployeeNumber              226\n",
       "Attrition                   226\n",
       "PerformanceRating           226\n",
       "MonthlyRate                 226\n",
       "JobInvolvement              226\n",
       "RelationshipSatisfaction    226\n",
       "JobSatisfaction             226\n",
       "dtype: int64"
      ]
     },
     "execution_count": 38,
     "metadata": {},
     "output_type": "execute_result"
    }
   ],
   "source": [
    "top_performers=f_data[f_data['PerformanceRating']>3]\n",
    "top_performers.count()     #226 employees with rating of 4"
   ]
  },
  {
   "cell_type": "code",
   "execution_count": 40,
   "id": "af1b1086-695f-40c0-9907-32934da6755d",
   "metadata": {},
   "outputs": [
    {
     "data": {
      "text/plain": [
       "EmployeeNumber              0\n",
       "Attrition                   0\n",
       "PerformanceRating           0\n",
       "MonthlyRate                 0\n",
       "JobInvolvement              0\n",
       "RelationshipSatisfaction    0\n",
       "JobSatisfaction             0\n",
       "dtype: int64"
      ]
     },
     "execution_count": 40,
     "metadata": {},
     "output_type": "execute_result"
    }
   ],
   "source": [
    "low_performers=f_data[f_data['PerformanceRating']<3]\n",
    "low_performers.count()       #there are no employee with Performance rating less than 3"
   ]
  },
  {
   "cell_type": "code",
   "execution_count": 46,
   "id": "727f830c-382a-4066-81c5-cf38562ee6ed",
   "metadata": {},
   "outputs": [
    {
     "data": {
      "text/plain": [
       "([<matplotlib.patches.Wedge at 0x2bb2085ab50>,\n",
       "  <matplotlib.patches.Wedge at 0x2bb2085bf50>],\n",
       " [Text(-0.9618916732177651, 0.5336332157899547, 'Yes'),\n",
       "  Text(0.961891673217765, -0.5336332157899547, 'No')],\n",
       " [Text(-0.5246681853915082, 0.29107266315815705, '83.88%'),\n",
       "  Text(0.5246681853915082, -0.2910726631581571, '16.12%')])"
      ]
     },
     "execution_count": 46,
     "metadata": {},
     "output_type": "execute_result"
    },
    {
     "data": {
      "image/png": "[encoded data removed]",
      "text/plain": [
       "<Figure size 640x480 with 1 Axes>"
      ]
     },
     "metadata": {},
     "output_type": "display_data"
    }
   ],
   "source": [
    "plt.pie(att_data['Attrition'],labels=['Yes','No'],autopct='%1.2f%%')"
   ]
  },
  {
   "cell_type": "code",
   "execution_count": 47,
   "id": "b4b75750-c86e-4bc3-8d22-2a2536070122",
   "metadata": {},
   "outputs": [
    {
     "data": {
      "text/plain": [
       "<BarContainer object of 1470 artists>"
      ]
     },
     "execution_count": 47,
     "metadata": {},
     "output_type": "execute_result"
    },
    {
     "data": {
      "image/png": "[encoded data removed]",
      "text/plain": [
       "<Figure size 640x480 with 1 Axes>"
      ]
     },
     "metadata": {},
     "output_type": "display_data"
    }
   ],
   "source": [
    "plt.bar(f_data['JobInvolvement'],f_data['MonthlyRate'])"
   ]
  },
  {
   "cell_type": "code",
   "execution_count": null,
   "id": "70d174aa-9df4-4029-9e8a-6e3c9296452d",
   "metadata": {},
   "outputs": [],
   "source": []
  }
 ],
 "metadata": {
  "kernelspec": {
   "display_name": "Python 3 (ipykernel)",
   "language": "python",
   "name": "python3"
  },
  "language_info": {
   "codemirror_mode": {
    "name": "ipython",
    "version": 3
   },
   "file_extension": ".py",
   "mimetype": "text/x-python",
   "name": "python",
   "nbconvert_exporter": "python",
   "pygments_lexer": "ipython3",
   "version": "3.11.7"
  }
 },
 "nbformat": 4,
 "nbformat_minor": 5
}
